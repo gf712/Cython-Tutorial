{
 "cells": [
  {
   "cell_type": "markdown",
   "metadata": {},
   "source": [
    "# First notebook to try out Cython"
   ]
  },
  {
   "cell_type": "markdown",
   "metadata": {},
   "source": [
    "### In this notebook I look into implementing the dot product with pure python and then start adding some cython in the mix.\n",
    "\n",
    "The dot product of a vector is defined as:\n",
    "\n",
    "$$u \\cdot v =  \\sum_{n=1}^{N} u_i * v_i $$"
   ]
  },
  {
   "cell_type": "code",
   "execution_count": 1,
   "metadata": {},
   "outputs": [],
   "source": [
    "# load Cython extension magic to work in notebook\n",
    "%load_ext Cython"
   ]
  },
  {
   "cell_type": "code",
   "execution_count": 2,
   "metadata": {},
   "outputs": [],
   "source": [
    "# define the size of the vector\n",
    "N = int(1e6)"
   ]
  },
  {
   "cell_type": "code",
   "execution_count": 3,
   "metadata": {},
   "outputs": [],
   "source": [
    "# python random library to generate random vectors\n",
    "import random"
   ]
  },
  {
   "cell_type": "code",
   "execution_count": 4,
   "metadata": {},
   "outputs": [],
   "source": [
    "# generate to vectors as Python lists\n",
    "u = [random.random() for x in range(N)]\n",
    "v = [random.random() for x in range(N)]"
   ]
  },
  {
   "cell_type": "code",
   "execution_count": 5,
   "metadata": {},
   "outputs": [],
   "source": [
    "# define the dot product in pure Python\n",
    "def dot_product(a, b):\n",
    "    # sum up elementwise product\n",
    "    return sum([a_ * b_ for a_, b_ in zip(a, b)])"
   ]
  },
  {
   "cell_type": "markdown",
   "metadata": {},
   "source": [
    "### Let's first see how fast python can go"
   ]
  },
  {
   "cell_type": "code",
   "execution_count": 6,
   "metadata": {},
   "outputs": [
    {
     "name": "stdout",
     "output_type": "stream",
     "text": [
      "45.8 ms ± 239 µs per loop (mean ± std. dev. of 7 runs, 100 loops each)\n"
     ]
    }
   ],
   "source": [
    "%%timeit -r 7 -n 100\n",
    "dot_product(u,v)"
   ]
  },
  {
   "cell_type": "markdown",
   "metadata": {},
   "source": [
    "### And now let Cython do all it's magic "
   ]
  },
  {
   "cell_type": "code",
   "execution_count": 7,
   "metadata": {
    "scrolled": false
   },
   "outputs": [],
   "source": [
    "%%cython\n",
    "def dot_product_cython(a, b): \n",
    "    return sum([i * j for i, j in zip(a, b)])"
   ]
  },
  {
   "cell_type": "code",
   "execution_count": 8,
   "metadata": {},
   "outputs": [
    {
     "name": "stdout",
     "output_type": "stream",
     "text": [
      "33.4 ms ± 904 µs per loop (mean ± std. dev. of 7 runs, 100 loops each)\n"
     ]
    }
   ],
   "source": [
    "%%timeit -r 7 -n 100\n",
    "dot_product_cython(u, v)"
   ]
  },
  {
   "cell_type": "markdown",
   "metadata": {},
   "source": [
    "## Not a bad start, Cython manages to run in about two thirds of the time of the pure Python implementation"
   ]
  },
  {
   "cell_type": "markdown",
   "metadata": {},
   "source": [
    "## But now to the real power of Cython with type declarations and static memory allocations"
   ]
  },
  {
   "cell_type": "code",
   "execution_count": 9,
   "metadata": {},
   "outputs": [],
   "source": [
    "%%cython \n",
    "\n",
    "# import malloc and free \n",
    "# for those not familiar with C, malloc allocates the requested memory and free releases it\n",
    "from libc.stdlib cimport malloc, free\n",
    "\n",
    "# Sidenote:\n",
    "# in C \"vanilla\" arrays are defined using pointers\n",
    "# in C++ 11 the standard library provides containers,\n",
    "# such as vector<> which does all the memory management\n",
    "\n",
    "# the actual dot product calculation returns a scalar\n",
    "# to be able to compare with numpy we use double precision\n",
    "cdef double dot_product_cython_1(double *a, double *b, int size):\n",
    "    # declare sum as a double with value 0\n",
    "    cdef double sum = 0.0\n",
    "    cdef int i\n",
    "    for i in range(size):\n",
    "        # add up elementwise product of a and b\n",
    "        sum+= a[i]*b[i]\n",
    "    # and return the sum\n",
    "    return sum\n",
    "\n",
    "# this is a helper function that copies Python lists to C arrays \n",
    "def call_cython(list a, list b):\n",
    "    \n",
    "    # get the size of list a, let's assume b is the same size\n",
    "    # as we don't perform this check in the other functions\n",
    "    cdef size_t size = len(a)\n",
    "    \n",
    "    # allocate memory of a_ and b_ C arrays that will contain a copy of a and b lists, respectively\n",
    "    cdef double *a_ = <double *> malloc(size*sizeof(double *))\n",
    "    cdef double *b_ = <double *> malloc(size*sizeof(double *))\n",
    "    cdef double result\n",
    "    \n",
    "    # one of the things that slows down python for loops is that it \n",
    "    # tries to dynamically determine the type of each element of the iterator\n",
    "    # at the start of each iteration\n",
    "    # so we can tell Cython that i is an int\n",
    "    cdef int i\n",
    "    # copy python list to C array\n",
    "    for i in range(size):\n",
    "        a_[i] = a[i]\n",
    "        b_[i] = b[i]\n",
    "        i+=1\n",
    "    \n",
    "    # calculate the actual dot product\n",
    "    result = dot_product_cython_1(a_, b_, size)\n",
    "    \n",
    "    # and very important! Release the memory\n",
    "    free(a_)\n",
    "    free(b_)\n",
    "    \n",
    "    return result"
   ]
  },
  {
   "cell_type": "markdown",
   "metadata": {},
   "source": [
    "# So was it worth it?"
   ]
  },
  {
   "cell_type": "code",
   "execution_count": 10,
   "metadata": {},
   "outputs": [
    {
     "name": "stdout",
     "output_type": "stream",
     "text": [
      "7.32 ms ± 259 µs per loop (mean ± std. dev. of 3 runs, 100 loops each)\n"
     ]
    }
   ],
   "source": [
    "%%timeit -r 3 -n 100\n",
    "call_cython(u, v)"
   ]
  },
  {
   "cell_type": "code",
   "execution_count": 11,
   "metadata": {},
   "outputs": [],
   "source": [
    "import numpy as np"
   ]
  },
  {
   "cell_type": "code",
   "execution_count": 12,
   "metadata": {},
   "outputs": [
    {
     "name": "stdout",
     "output_type": "stream",
     "text": [
      "50.1 ms ± 10.7 ms per loop (mean ± std. dev. of 7 runs, 10 loops each)\n"
     ]
    }
   ],
   "source": [
    "%%timeit\n",
    "np.dot(u, v)"
   ]
  },
  {
   "cell_type": "markdown",
   "metadata": {},
   "source": [
    "### Much faster than numpy! But is this implementation correct?"
   ]
  },
  {
   "cell_type": "code",
   "execution_count": 13,
   "metadata": {},
   "outputs": [
    {
     "data": {
      "text/plain": [
       "True"
      ]
     },
     "execution_count": 13,
     "metadata": {},
     "output_type": "execute_result"
    }
   ],
   "source": [
    "np.isclose(call_cython(u, v), np.dot(u, v))"
   ]
  },
  {
   "cell_type": "markdown",
   "metadata": {},
   "source": [
    "# Cython provides an easy to use interface that allows a developer to mix C-like syntax with Python with low production time and impressive speed gains! "
   ]
  },
  {
   "cell_type": "markdown",
   "metadata": {},
   "source": [
    "## Bonus: even faster (and simpler implementation with just numpy arrays.\n",
    "This goes even faster, but only with a bit of cheating. If we run this new implementation on numpy arrays we don't need to copy them to C arrays anymore and gain some speed! \n",
    "\n",
    "However, if we time the execution with the instantiation of the numpy arrays we lose all the gains and run almost at the same speed as np.dot(u,v)."
   ]
  },
  {
   "cell_type": "code",
   "execution_count": 14,
   "metadata": {},
   "outputs": [],
   "source": [
    "%%cython \n",
    "\n",
    "cimport cython\n",
    "cimport numpy as np\n",
    "\n",
    "# this function uses dynamic binding and can therefore accept Python objects, i.e. numpy arrays\n",
    "cpdef double dot_product_cython_2(np.ndarray[double] a, np.ndarray[double] b):\n",
    "    \n",
    "    cdef int i\n",
    "    cdef double result = 0.0\n",
    "    for i in range(a.size):\n",
    "        result+= a[i]*b[i]\n",
    "        \n",
    "    return result"
   ]
  },
  {
   "cell_type": "code",
   "execution_count": 15,
   "metadata": {},
   "outputs": [],
   "source": [
    "u_np = np.array(u)\n",
    "v_np = np.array(v)"
   ]
  },
  {
   "cell_type": "code",
   "execution_count": 16,
   "metadata": {},
   "outputs": [
    {
     "name": "stdout",
     "output_type": "stream",
     "text": [
      "1.23 ms ± 237 µs per loop (mean ± std. dev. of 3 runs, 1000 loops each)\n"
     ]
    }
   ],
   "source": [
    "%%timeit -r 3 -n 1000\n",
    "# run np.dot with numpy arrays, without accounting for array instantiation time\n",
    "np.dot(u_np, v_np)"
   ]
  },
  {
   "cell_type": "code",
   "execution_count": 17,
   "metadata": {},
   "outputs": [
    {
     "name": "stdout",
     "output_type": "stream",
     "text": [
      "1.06 ms ± 10.3 µs per loop (mean ± std. dev. of 3 runs, 1000 loops each)\n"
     ]
    }
   ],
   "source": [
    "%%timeit -r 3 -n 1000\n",
    "# run cython function with numpy arrays, without accounting for array instantiation time\n",
    "dot_product_cython_2(u_np, v_np)"
   ]
  },
  {
   "cell_type": "code",
   "execution_count": 18,
   "metadata": {},
   "outputs": [
    {
     "name": "stdout",
     "output_type": "stream",
     "text": [
      "32.8 ms ± 102 µs per loop (mean ± std. dev. of 3 runs, 100 loops each)\n"
     ]
    }
   ],
   "source": [
    "%%timeit -r 3 -n 100\n",
    "# take into account u and v instantiation as np.array objects\n",
    "u_np = np.array(u)\n",
    "v_np = np.array(v)\n",
    "dot_product_cython_2(u_np, v_np)"
   ]
  },
  {
   "cell_type": "code",
   "execution_count": 19,
   "metadata": {},
   "outputs": [
    {
     "data": {
      "text/plain": [
       "True"
      ]
     },
     "execution_count": 19,
     "metadata": {},
     "output_type": "execute_result"
    }
   ],
   "source": [
    "# sanity check\n",
    "np.isclose(dot_product_cython_2(u_np, v_np), np.dot(u_np, v_np))"
   ]
  },
  {
   "cell_type": "code",
   "execution_count": null,
   "metadata": {},
   "outputs": [],
   "source": []
  }
 ],
 "metadata": {
  "kernelspec": {
   "display_name": "Python 3",
   "language": "python",
   "name": "python3"
  },
  "language_info": {
   "codemirror_mode": {
    "name": "ipython",
    "version": 3
   },
   "file_extension": ".py",
   "mimetype": "text/x-python",
   "name": "python",
   "nbconvert_exporter": "python",
   "pygments_lexer": "ipython3",
   "version": "3.6.5"
  }
 },
 "nbformat": 4,
 "nbformat_minor": 2
}
